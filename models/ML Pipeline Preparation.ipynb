{
 "cells": [
  {
   "cell_type": "markdown",
   "metadata": {},
   "source": [
    "# ML Pipeline Preparation\n",
    "Follow the instructions below to help you create your ML pipeline.\n",
    "## 1. Import libraries and load data from database.\n",
    "- Import Python libraries\n",
    "- Load dataset from database with [`read_sql_table`](https://pandas.pydata.org/pandas-docs/stable/generated/pandas.read_sql_table.html)\n",
    "- Define feature and target variables X and Y"
   ]
  },
  {
   "cell_type": "code",
   "execution_count": 1,
   "metadata": {},
   "outputs": [],
   "source": [
    "# import libraries\n",
    "import pandas as pd\n",
    "import numpy as np\n",
    "from sqlalchemy import create_engine\n",
    "from nltk import word_tokenize\n",
    "import re\n",
    "import nltk\n",
    "from nltk.corpus import stopwords\n",
    "from nltk.stem.wordnet import WordNetLemmatizer\n",
    "from sklearn.model_selection import train_test_split, GridSearchCV\n",
    "from sklearn.feature_extraction.text import CountVectorizer, TfidfTransformer\n",
    "from sklearn.pipeline import Pipeline, FeatureUnion\n",
    "from sklearn.ensemble import RandomForestClassifier\n",
    "from sklearn.multioutput import MultiOutputClassifier\n",
    "from sklearn.metrics import classification_report"
   ]
  },
  {
   "cell_type": "code",
   "execution_count": 2,
   "metadata": {},
   "outputs": [
    {
     "name": "stderr",
     "output_type": "stream",
     "text": [
      "[nltk_data] Downloading package punkt to\n",
      "[nltk_data]     C:\\Users\\rache\\AppData\\Roaming\\nltk_data...\n",
      "[nltk_data]   Package punkt is already up-to-date!\n",
      "[nltk_data] Downloading package stopwords to\n",
      "[nltk_data]     C:\\Users\\rache\\AppData\\Roaming\\nltk_data...\n",
      "[nltk_data]   Unzipping corpora\\stopwords.zip.\n",
      "[nltk_data] Downloading package wordnet to\n",
      "[nltk_data]     C:\\Users\\rache\\AppData\\Roaming\\nltk_data...\n",
      "[nltk_data]   Package wordnet is already up-to-date!\n"
     ]
    },
    {
     "data": {
      "text/plain": [
       "True"
      ]
     },
     "execution_count": 2,
     "metadata": {},
     "output_type": "execute_result"
    }
   ],
   "source": [
    "# downloads\n",
    "nltk.download('punkt')\n",
    "nltk.download('stopwords')\n",
    "nltk.download('wordnet')"
   ]
  },
  {
   "cell_type": "code",
   "execution_count": 2,
   "metadata": {},
   "outputs": [],
   "source": [
    "# load data from database\n",
    "engine = create_engine('sqlite:///DisasterResponse.db')\n",
    "df = pd.read_sql_table('disaster_response', engine)\n",
    "\n",
    "# feature\n",
    "X = df['message']\n",
    "\n",
    "# targets\n",
    "Y = df.drop(columns=['id', 'message', 'original', 'genre'])"
   ]
  },
  {
   "cell_type": "code",
   "execution_count": 3,
   "metadata": {
    "scrolled": true
   },
   "outputs": [
    {
     "data": {
      "text/plain": [
       "0        Weather update - a cold front from Cuba that c...\n",
       "1                  Is the Hurricane over or is it not over\n",
       "2                          Looking for someone but no name\n",
       "3        UN reports Leogane 80-90 destroyed. Only Hospi...\n",
       "4        says: west side of Haiti, rest of the country ...\n",
       "                               ...                        \n",
       "26210    The training demonstrated how to enhance micro...\n",
       "26211    A suitable candidate has been selected and OCH...\n",
       "26212    Proshika, operating in Cox's Bazar municipalit...\n",
       "26213    Some 2,000 women protesting against the conduc...\n",
       "26214    A radical shift in thinking came about as a re...\n",
       "Name: message, Length: 26215, dtype: object"
      ]
     },
     "execution_count": 3,
     "metadata": {},
     "output_type": "execute_result"
    }
   ],
   "source": [
    "X"
   ]
  },
  {
   "cell_type": "markdown",
   "metadata": {},
   "source": [
    "## 2. Write a tokenization function to process your text data"
   ]
  },
  {
   "cell_type": "code",
   "execution_count": 4,
   "metadata": {},
   "outputs": [],
   "source": [
    "def tokenize(text):\n",
    "    \n",
    "    # normalize\n",
    "    text = re.sub(r\"[^a-zA-Z0-9]\", \" \", text.lower())\n",
    "    \n",
    "    # tokenize text\n",
    "    tokens = word_tokenize(text)\n",
    "    \n",
    "    # lemmatize and remove stopwords\n",
    "    tokens = [WordNetLemmatizer().lemmatize(word) for word in tokens if word not in stopwords.words(\"english\")]\n",
    "    \n",
    "    return tokens"
   ]
  },
  {
   "cell_type": "code",
   "execution_count": 5,
   "metadata": {},
   "outputs": [
    {
     "data": {
      "text/plain": [
       "['Weather update - a cold front from Cuba that could pass over Haiti',\n",
       " 'Is the Hurricane over or is it not over',\n",
       " 'Looking for someone but no name',\n",
       " 'UN reports Leogane 80-90 destroyed. Only Hospital St. Croix functioning. Needs supplies desperately.',\n",
       " 'says: west side of Haiti, rest of the country today and tonight',\n",
       " 'Information about the National Palace-',\n",
       " 'Storm at sacred heart of jesus',\n",
       " 'Please, we need tents and water. We are in Silo, Thank you!',\n",
       " 'I would like to receive the messages, thank you',\n",
       " 'I am in Croix-des-Bouquets. We have health issues. They ( workers ) are in Santo 15. ( an area in Croix-des-Bouquets )']"
      ]
     },
     "execution_count": 5,
     "metadata": {},
     "output_type": "execute_result"
    }
   ],
   "source": [
    "X.tolist()[0:10]"
   ]
  },
  {
   "cell_type": "markdown",
   "metadata": {},
   "source": [
    "## 3. Build a machine learning pipeline\n",
    "This machine pipeline should take in the `message` column as input and output classification results on the other 36 categories in the dataset. You may find the [MultiOutputClassifier](http://scikit-learn.org/stable/modules/generated/sklearn.multioutput.MultiOutputClassifier.html) helpful for predicting multiple target variables."
   ]
  },
  {
   "cell_type": "code",
   "execution_count": 6,
   "metadata": {},
   "outputs": [],
   "source": [
    "# Build pipeline using Random Forest as our classifier first\n",
    "pipeline = Pipeline([\n",
    "    ('features', FeatureUnion([\n",
    "        ('text_pipeline', Pipeline([\n",
    "            ('vect', CountVectorizer(tokenizer=tokenize)),\n",
    "            ('tfidf', TfidfTransformer())\n",
    "        ]))\n",
    "    ])),\n",
    "    ('clf', MultiOutputClassifier(RandomForestClassifier(n_jobs=-1)))\n",
    "])"
   ]
  },
  {
   "cell_type": "markdown",
   "metadata": {},
   "source": [
    "## 4. Train pipeline\n",
    "- Split data into train and test sets\n",
    "- Train pipeline"
   ]
  },
  {
   "cell_type": "code",
   "execution_count": 7,
   "metadata": {},
   "outputs": [],
   "source": [
    "X_train, X_test, Y_train, Y_test = train_test_split(X, Y, test_size=0.25, random_state=42)\n",
    "pipeline.fit(X_train, Y_train)\n",
    "Y_pred = pipeline.predict(X_test)"
   ]
  },
  {
   "cell_type": "markdown",
   "metadata": {},
   "source": [
    "## 5. Test your model\n",
    "Report the f1 score, precision and recall for each output category of the dataset. You can do this by iterating through the columns and calling sklearn's `classification_report` on each."
   ]
  },
  {
   "cell_type": "code",
   "execution_count": 8,
   "metadata": {},
   "outputs": [],
   "source": [
    "# Turn preds into a dataframe\n",
    "Y_pred_df = pd.DataFrame(Y_pred, index=Y_test.index, columns=Y_test.columns)"
   ]
  },
  {
   "cell_type": "code",
   "execution_count": 9,
   "metadata": {},
   "outputs": [
    {
     "name": "stdout",
     "output_type": "stream",
     "text": [
      "                        precision    recall  f1-score   support\n",
      "\n",
      "               related       0.83      0.95      0.89      5001\n",
      "               request       0.84      0.51      0.63      1093\n",
      "                 offer       0.00      0.00      0.00        32\n",
      "           aid_related       0.76      0.69      0.72      2700\n",
      "          medical_help       0.72      0.10      0.17       532\n",
      "      medical_products       0.79      0.10      0.17       345\n",
      "     search_and_rescue       0.67      0.07      0.13       165\n",
      "              security       0.25      0.01      0.02       127\n",
      "              military       0.81      0.07      0.12       197\n",
      "           child_alone       0.00      0.00      0.00         0\n",
      "                 water       0.88      0.44      0.58       408\n",
      "                  food       0.86      0.58      0.69       723\n",
      "               shelter       0.82      0.35      0.49       590\n",
      "              clothing       0.77      0.11      0.19        95\n",
      "                 money       0.82      0.07      0.12       138\n",
      "        missing_people       1.00      0.01      0.03        74\n",
      "              refugees       0.60      0.01      0.03       223\n",
      "                 death       0.86      0.13      0.22       301\n",
      "             other_aid       0.57      0.04      0.07       865\n",
      "infrastructure_related       0.00      0.00      0.00       410\n",
      "             transport       0.73      0.08      0.15       288\n",
      "             buildings       0.84      0.12      0.22       331\n",
      "           electricity       1.00      0.03      0.07       144\n",
      "                 tools       0.00      0.00      0.00        46\n",
      "             hospitals       0.00      0.00      0.00        60\n",
      "                 shops       0.00      0.00      0.00        29\n",
      "           aid_centers       0.00      0.00      0.00        77\n",
      "  other_infrastructure       0.00      0.00      0.00       277\n",
      "       weather_related       0.85      0.70      0.77      1816\n",
      "                floods       0.90      0.43      0.59       546\n",
      "                 storm       0.75      0.51      0.60       596\n",
      "                  fire       0.00      0.00      0.00        67\n",
      "            earthquake       0.90      0.79      0.84       630\n",
      "                  cold       0.67      0.11      0.20       122\n",
      "         other_weather       0.79      0.05      0.09       319\n",
      "         direct_report       0.78      0.34      0.47      1265\n",
      "\n",
      "             micro avg       0.82      0.53      0.65     20632\n",
      "             macro avg       0.58      0.20      0.26     20632\n",
      "          weighted avg       0.76      0.53      0.57     20632\n",
      "           samples avg       0.67      0.48      0.51     20632\n",
      "\n"
     ]
    }
   ],
   "source": [
    "# Print classification report\n",
    "print(classification_report(Y_test, Y_pred_df, target_names=Y_test.columns, zero_division=0))"
   ]
  },
  {
   "cell_type": "markdown",
   "metadata": {},
   "source": [
    "## 6. Try improving the model\n",
    "For example:\n",
    "* try other machine learning algorithms\n",
    "* add other features besides the TF-IDF"
   ]
  },
  {
   "cell_type": "markdown",
   "metadata": {},
   "source": [
    "### Create a function to make testing other models easier"
   ]
  },
  {
   "cell_type": "code",
   "execution_count": 10,
   "metadata": {},
   "outputs": [],
   "source": [
    "def fit_train_test_model(X, Y, classifier):\n",
    "    \n",
    "    # specify the pipeline\n",
    "    pipeline = Pipeline([\n",
    "        ('features', FeatureUnion([\n",
    "            ('text_pipeline', Pipeline([\n",
    "                ('vect', CountVectorizer(tokenizer=tokenize)),\n",
    "                ('tfidf', TfidfTransformer())\n",
    "            ]))\n",
    "        ])),\n",
    "        ('clf', MultiOutputClassifier(classifier))\n",
    "    ])\n",
    "    \n",
    "    # Train the pipeline and make predictions\n",
    "    X_train, X_test, Y_train, Y_test = train_test_split(X, Y, test_size=0.25, random_state=42)\n",
    "    pipeline.fit(X_train, Y_train)\n",
    "    Y_pred = pipeline.predict(X_test)\n",
    "    \n",
    "    # Test our model\n",
    "    Y_pred_df = pd.DataFrame(Y_pred, index=Y_test.index, columns=Y_test.columns)\n",
    "    \n",
    "    print(\"{} Report:\".format(classifier))\n",
    "    print(classification_report(Y_test, Y_pred_df, target_names=Y_test.columns, zero_division=0))\n"
   ]
  },
  {
   "cell_type": "markdown",
   "metadata": {},
   "source": [
    "We can only use algorithms that support multilabal classifications so we'll try out algorithms based on the information on this page: https://scikit-learn.org/stable/modules/multiclass.html"
   ]
  },
  {
   "cell_type": "markdown",
   "metadata": {},
   "source": [
    "### Decision Tree Classifier"
   ]
  },
  {
   "cell_type": "code",
   "execution_count": 8,
   "metadata": {},
   "outputs": [],
   "source": [
    "from sklearn.tree import DecisionTreeClassifier"
   ]
  },
  {
   "cell_type": "code",
   "execution_count": 16,
   "metadata": {},
   "outputs": [
    {
     "name": "stdout",
     "output_type": "stream",
     "text": [
      "DecisionTreeClassifier() Report:\n",
      "                        precision    recall  f1-score   support\n",
      "\n",
      "               related       0.85      0.85      0.85      5001\n",
      "               request       0.55      0.52      0.54      1093\n",
      "                 offer       0.00      0.00      0.00        32\n",
      "           aid_related       0.65      0.64      0.64      2700\n",
      "          medical_help       0.37      0.33      0.35       532\n",
      "      medical_products       0.42      0.37      0.39       345\n",
      "     search_and_rescue       0.23      0.21      0.22       165\n",
      "              security       0.05      0.03      0.04       127\n",
      "              military       0.32      0.31      0.31       197\n",
      "           child_alone       0.00      0.00      0.00         0\n",
      "                 water       0.64      0.66      0.65       408\n",
      "                  food       0.75      0.72      0.73       723\n",
      "               shelter       0.61      0.58      0.59       590\n",
      "              clothing       0.61      0.54      0.57        95\n",
      "                 money       0.39      0.34      0.36       138\n",
      "        missing_people       0.30      0.27      0.28        74\n",
      "              refugees       0.39      0.31      0.35       223\n",
      "                 death       0.62      0.58      0.60       301\n",
      "             other_aid       0.30      0.25      0.27       865\n",
      "infrastructure_related       0.17      0.13      0.15       410\n",
      "             transport       0.33      0.28      0.30       288\n",
      "             buildings       0.47      0.38      0.42       331\n",
      "           electricity       0.45      0.26      0.33       144\n",
      "                 tools       0.04      0.02      0.03        46\n",
      "             hospitals       0.09      0.12      0.10        60\n",
      "                 shops       0.00      0.00      0.00        29\n",
      "           aid_centers       0.10      0.08      0.09        77\n",
      "  other_infrastructure       0.15      0.12      0.13       277\n",
      "       weather_related       0.74      0.72      0.73      1816\n",
      "                floods       0.63      0.57      0.60       546\n",
      "                 storm       0.65      0.68      0.66       596\n",
      "                  fire       0.31      0.33      0.32        67\n",
      "            earthquake       0.80      0.78      0.79       630\n",
      "                  cold       0.44      0.44      0.44       122\n",
      "         other_weather       0.27      0.27      0.27       319\n",
      "         direct_report       0.50      0.44      0.46      1265\n",
      "\n",
      "             micro avg       0.63      0.59      0.61     20632\n",
      "             macro avg       0.39      0.37      0.38     20632\n",
      "          weighted avg       0.61      0.59      0.60     20632\n",
      "           samples avg       0.51      0.49      0.46     20632\n",
      "\n"
     ]
    }
   ],
   "source": [
    "fit_train_test_model(X, Y, DecisionTreeClassifier())"
   ]
  },
  {
   "cell_type": "markdown",
   "metadata": {},
   "source": [
    "### Extra Tree Classifier"
   ]
  },
  {
   "cell_type": "code",
   "execution_count": 17,
   "metadata": {},
   "outputs": [],
   "source": [
    "from sklearn.tree import ExtraTreeClassifier"
   ]
  },
  {
   "cell_type": "code",
   "execution_count": 18,
   "metadata": {},
   "outputs": [
    {
     "name": "stdout",
     "output_type": "stream",
     "text": [
      "ExtraTreeClassifier() Report:\n",
      "                        precision    recall  f1-score   support\n",
      "\n",
      "               related       0.84      0.83      0.83      5001\n",
      "               request       0.50      0.50      0.50      1093\n",
      "                 offer       0.03      0.03      0.03        32\n",
      "           aid_related       0.61      0.58      0.59      2700\n",
      "          medical_help       0.29      0.25      0.27       532\n",
      "      medical_products       0.34      0.27      0.30       345\n",
      "     search_and_rescue       0.16      0.15      0.15       165\n",
      "              security       0.05      0.03      0.04       127\n",
      "              military       0.32      0.31      0.32       197\n",
      "           child_alone       0.00      0.00      0.00         0\n",
      "                 water       0.48      0.40      0.44       408\n",
      "                  food       0.46      0.43      0.45       723\n",
      "               shelter       0.42      0.38      0.40       590\n",
      "              clothing       0.17      0.16      0.16        95\n",
      "                 money       0.14      0.11      0.12       138\n",
      "        missing_people       0.13      0.08      0.10        74\n",
      "              refugees       0.24      0.20      0.22       223\n",
      "                 death       0.37      0.30      0.33       301\n",
      "             other_aid       0.27      0.20      0.23       865\n",
      "infrastructure_related       0.14      0.12      0.13       410\n",
      "             transport       0.21      0.18      0.20       288\n",
      "             buildings       0.37      0.29      0.33       331\n",
      "           electricity       0.24      0.15      0.19       144\n",
      "                 tools       0.00      0.00      0.00        46\n",
      "             hospitals       0.02      0.02      0.02        60\n",
      "                 shops       0.00      0.00      0.00        29\n",
      "           aid_centers       0.06      0.04      0.05        77\n",
      "  other_infrastructure       0.08      0.05      0.06       277\n",
      "       weather_related       0.59      0.58      0.58      1816\n",
      "                floods       0.51      0.42      0.46       546\n",
      "                 storm       0.49      0.43      0.46       596\n",
      "                  fire       0.30      0.31      0.31        67\n",
      "            earthquake       0.57      0.48      0.52       630\n",
      "                  cold       0.25      0.24      0.24       122\n",
      "         other_weather       0.19      0.17      0.18       319\n",
      "         direct_report       0.41      0.37      0.39      1265\n",
      "\n",
      "             micro avg       0.55      0.50      0.52     20632\n",
      "             macro avg       0.29      0.25      0.27     20632\n",
      "          weighted avg       0.53      0.50      0.51     20632\n",
      "           samples avg       0.47      0.43      0.40     20632\n",
      "\n"
     ]
    }
   ],
   "source": [
    "fit_train_test_model(X, Y, ExtraTreeClassifier())"
   ]
  },
  {
   "cell_type": "markdown",
   "metadata": {},
   "source": [
    "### Ensemble Extra Trees Classifier"
   ]
  },
  {
   "cell_type": "code",
   "execution_count": 19,
   "metadata": {},
   "outputs": [],
   "source": [
    "from sklearn.ensemble import ExtraTreesClassifier"
   ]
  },
  {
   "cell_type": "code",
   "execution_count": 20,
   "metadata": {},
   "outputs": [
    {
     "name": "stdout",
     "output_type": "stream",
     "text": [
      "ExtraTreesClassifier() Report:\n",
      "                        precision    recall  f1-score   support\n",
      "\n",
      "               related       0.84      0.95      0.89      5001\n",
      "               request       0.84      0.48      0.61      1093\n",
      "                 offer       0.00      0.00      0.00        32\n",
      "           aid_related       0.77      0.69      0.72      2700\n",
      "          medical_help       0.63      0.12      0.20       532\n",
      "      medical_products       0.70      0.11      0.19       345\n",
      "     search_and_rescue       0.41      0.04      0.08       165\n",
      "              security       0.20      0.01      0.02       127\n",
      "              military       0.56      0.10      0.17       197\n",
      "           child_alone       0.00      0.00      0.00         0\n",
      "                 water       0.80      0.30      0.44       408\n",
      "                  food       0.87      0.45      0.60       723\n",
      "               shelter       0.80      0.29      0.42       590\n",
      "              clothing       0.60      0.13      0.21        95\n",
      "                 money       0.73      0.06      0.11       138\n",
      "        missing_people       1.00      0.04      0.08        74\n",
      "              refugees       0.56      0.06      0.11       223\n",
      "                 death       0.77      0.11      0.19       301\n",
      "             other_aid       0.38      0.03      0.06       865\n",
      "infrastructure_related       0.22      0.01      0.02       410\n",
      "             transport       0.45      0.07      0.12       288\n",
      "             buildings       0.74      0.11      0.19       331\n",
      "           electricity       1.00      0.04      0.08       144\n",
      "                 tools       0.00      0.00      0.00        46\n",
      "             hospitals       0.29      0.03      0.06        60\n",
      "                 shops       0.00      0.00      0.00        29\n",
      "           aid_centers       0.00      0.00      0.00        77\n",
      "  other_infrastructure       0.09      0.00      0.01       277\n",
      "       weather_related       0.84      0.69      0.76      1816\n",
      "                floods       0.88      0.43      0.58       546\n",
      "                 storm       0.76      0.45      0.56       596\n",
      "                  fire       0.50      0.06      0.11        67\n",
      "            earthquake       0.89      0.66      0.76       630\n",
      "                  cold       0.75      0.15      0.25       122\n",
      "         other_weather       0.42      0.04      0.08       319\n",
      "         direct_report       0.75      0.32      0.45      1265\n",
      "\n",
      "             micro avg       0.81      0.52      0.63     20632\n",
      "             macro avg       0.56      0.20      0.25     20632\n",
      "          weighted avg       0.74      0.52      0.56     20632\n",
      "           samples avg       0.66      0.47      0.50     20632\n",
      "\n"
     ]
    }
   ],
   "source": [
    "fit_train_test_model(X, Y, ExtraTreesClassifier())"
   ]
  },
  {
   "cell_type": "markdown",
   "metadata": {},
   "source": [
    "### KNeighbors Classifier"
   ]
  },
  {
   "cell_type": "code",
   "execution_count": 21,
   "metadata": {},
   "outputs": [],
   "source": [
    "from sklearn.neighbors import KNeighborsClassifier"
   ]
  },
  {
   "cell_type": "code",
   "execution_count": 22,
   "metadata": {},
   "outputs": [
    {
     "name": "stdout",
     "output_type": "stream",
     "text": [
      "KNeighborsClassifier() Report:\n",
      "                        precision    recall  f1-score   support\n",
      "\n",
      "               related       0.78      0.98      0.87      5001\n",
      "               request       0.79      0.07      0.13      1093\n",
      "                 offer       0.00      0.00      0.00        32\n",
      "           aid_related       0.69      0.04      0.07      2700\n",
      "          medical_help       0.50      0.00      0.00       532\n",
      "      medical_products       0.33      0.00      0.01       345\n",
      "     search_and_rescue       0.00      0.00      0.00       165\n",
      "              security       0.00      0.00      0.00       127\n",
      "              military       0.00      0.00      0.00       197\n",
      "           child_alone       0.00      0.00      0.00         0\n",
      "                 water       0.71      0.02      0.05       408\n",
      "                  food       0.75      0.05      0.10       723\n",
      "               shelter       0.91      0.03      0.07       590\n",
      "              clothing       1.00      0.04      0.08        95\n",
      "                 money       0.50      0.01      0.01       138\n",
      "        missing_people       0.00      0.00      0.00        74\n",
      "              refugees       0.00      0.00      0.00       223\n",
      "                 death       1.00      0.01      0.03       301\n",
      "             other_aid       0.29      0.01      0.02       865\n",
      "infrastructure_related       1.00      0.01      0.01       410\n",
      "             transport       0.00      0.00      0.00       288\n",
      "             buildings       1.00      0.02      0.03       331\n",
      "           electricity       0.00      0.00      0.00       144\n",
      "                 tools       0.00      0.00      0.00        46\n",
      "             hospitals       0.00      0.00      0.00        60\n",
      "                 shops       0.00      0.00      0.00        29\n",
      "           aid_centers       0.00      0.00      0.00        77\n",
      "  other_infrastructure       0.67      0.01      0.01       277\n",
      "       weather_related       0.75      0.05      0.10      1816\n",
      "                floods       0.80      0.01      0.01       546\n",
      "                 storm       0.61      0.02      0.04       596\n",
      "                  fire       0.00      0.00      0.00        67\n",
      "            earthquake       0.74      0.12      0.20       630\n",
      "                  cold       0.67      0.02      0.03       122\n",
      "         other_weather       1.00      0.01      0.02       319\n",
      "         direct_report       0.71      0.05      0.09      1265\n",
      "\n",
      "             micro avg       0.78      0.26      0.39     20632\n",
      "             macro avg       0.45      0.04      0.06     20632\n",
      "          weighted avg       0.68      0.26      0.26     20632\n",
      "           samples avg       0.75      0.33      0.41     20632\n",
      "\n"
     ]
    }
   ],
   "source": [
    "fit_train_test_model(X, Y, KNeighborsClassifier())"
   ]
  },
  {
   "cell_type": "markdown",
   "metadata": {},
   "source": [
    "The weighted average F-scores of the models were as follows\n",
    "* Random Forest: 0.57\n",
    "* Decision Tree: 0.60\n",
    "* Extra Tree: 0.51\n",
    "* Ensemble Extra Trees: 0.56\n",
    "* KNeighbors: 0.26"
   ]
  },
  {
   "cell_type": "markdown",
   "metadata": {},
   "source": [
    "## 7. Tune the model\n",
    "Use grid search to find better parameters. "
   ]
  },
  {
   "cell_type": "code",
   "execution_count": 9,
   "metadata": {},
   "outputs": [],
   "source": [
    "# Proceed with our chosen model pipeline\n",
    "pipeline = Pipeline([\n",
    "    ('features', FeatureUnion([\n",
    "        ('text_pipeline', Pipeline([\n",
    "            ('vect', CountVectorizer(tokenizer=tokenize)),\n",
    "            ('tfidf', TfidfTransformer())\n",
    "        ]))\n",
    "    ])),\n",
    "    ('clf', MultiOutputClassifier(DecisionTreeClassifier()))\n",
    "])"
   ]
  },
  {
   "cell_type": "code",
   "execution_count": 10,
   "metadata": {},
   "outputs": [
    {
     "data": {
      "text/plain": [
       "{'memory': None,\n",
       " 'steps': [('features',\n",
       "   FeatureUnion(transformer_list=[('text_pipeline',\n",
       "                                   Pipeline(steps=[('vect',\n",
       "                                                    CountVectorizer(tokenizer=<function tokenize at 0x00000253AC862820>)),\n",
       "                                                   ('tfidf',\n",
       "                                                    TfidfTransformer())]))])),\n",
       "  ('clf', MultiOutputClassifier(estimator=DecisionTreeClassifier()))],\n",
       " 'verbose': False,\n",
       " 'features': FeatureUnion(transformer_list=[('text_pipeline',\n",
       "                                 Pipeline(steps=[('vect',\n",
       "                                                  CountVectorizer(tokenizer=<function tokenize at 0x00000253AC862820>)),\n",
       "                                                 ('tfidf',\n",
       "                                                  TfidfTransformer())]))]),\n",
       " 'clf': MultiOutputClassifier(estimator=DecisionTreeClassifier()),\n",
       " 'features__n_jobs': None,\n",
       " 'features__transformer_list': [('text_pipeline',\n",
       "   Pipeline(steps=[('vect',\n",
       "                    CountVectorizer(tokenizer=<function tokenize at 0x00000253AC862820>)),\n",
       "                   ('tfidf', TfidfTransformer())]))],\n",
       " 'features__transformer_weights': None,\n",
       " 'features__verbose': False,\n",
       " 'features__text_pipeline': Pipeline(steps=[('vect',\n",
       "                  CountVectorizer(tokenizer=<function tokenize at 0x00000253AC862820>)),\n",
       "                 ('tfidf', TfidfTransformer())]),\n",
       " 'features__text_pipeline__memory': None,\n",
       " 'features__text_pipeline__steps': [('vect',\n",
       "   CountVectorizer(tokenizer=<function tokenize at 0x00000253AC862820>)),\n",
       "  ('tfidf', TfidfTransformer())],\n",
       " 'features__text_pipeline__verbose': False,\n",
       " 'features__text_pipeline__vect': CountVectorizer(tokenizer=<function tokenize at 0x00000253AC862820>),\n",
       " 'features__text_pipeline__tfidf': TfidfTransformer(),\n",
       " 'features__text_pipeline__vect__analyzer': 'word',\n",
       " 'features__text_pipeline__vect__binary': False,\n",
       " 'features__text_pipeline__vect__decode_error': 'strict',\n",
       " 'features__text_pipeline__vect__dtype': numpy.int64,\n",
       " 'features__text_pipeline__vect__encoding': 'utf-8',\n",
       " 'features__text_pipeline__vect__input': 'content',\n",
       " 'features__text_pipeline__vect__lowercase': True,\n",
       " 'features__text_pipeline__vect__max_df': 1.0,\n",
       " 'features__text_pipeline__vect__max_features': None,\n",
       " 'features__text_pipeline__vect__min_df': 1,\n",
       " 'features__text_pipeline__vect__ngram_range': (1, 1),\n",
       " 'features__text_pipeline__vect__preprocessor': None,\n",
       " 'features__text_pipeline__vect__stop_words': None,\n",
       " 'features__text_pipeline__vect__strip_accents': None,\n",
       " 'features__text_pipeline__vect__token_pattern': '(?u)\\\\b\\\\w\\\\w+\\\\b',\n",
       " 'features__text_pipeline__vect__tokenizer': <function __main__.tokenize(text)>,\n",
       " 'features__text_pipeline__vect__vocabulary': None,\n",
       " 'features__text_pipeline__tfidf__norm': 'l2',\n",
       " 'features__text_pipeline__tfidf__smooth_idf': True,\n",
       " 'features__text_pipeline__tfidf__sublinear_tf': False,\n",
       " 'features__text_pipeline__tfidf__use_idf': True,\n",
       " 'clf__estimator__ccp_alpha': 0.0,\n",
       " 'clf__estimator__class_weight': None,\n",
       " 'clf__estimator__criterion': 'gini',\n",
       " 'clf__estimator__max_depth': None,\n",
       " 'clf__estimator__max_features': None,\n",
       " 'clf__estimator__max_leaf_nodes': None,\n",
       " 'clf__estimator__min_impurity_decrease': 0.0,\n",
       " 'clf__estimator__min_impurity_split': None,\n",
       " 'clf__estimator__min_samples_leaf': 1,\n",
       " 'clf__estimator__min_samples_split': 2,\n",
       " 'clf__estimator__min_weight_fraction_leaf': 0.0,\n",
       " 'clf__estimator__random_state': None,\n",
       " 'clf__estimator__splitter': 'best',\n",
       " 'clf__estimator': DecisionTreeClassifier(),\n",
       " 'clf__n_jobs': None}"
      ]
     },
     "execution_count": 10,
     "metadata": {},
     "output_type": "execute_result"
    }
   ],
   "source": [
    "pipeline.get_params()"
   ]
  },
  {
   "cell_type": "code",
   "execution_count": 11,
   "metadata": {},
   "outputs": [],
   "source": [
    "parameters = {\n",
    "    'features__text_pipeline__vect__ngram_range': ((1, 1), (1, 2)),\n",
    "    'clf__estimator__max_depth': [10, 20],\n",
    "    'clf__estimator__min_samples_split': [2, 5],\n",
    "    'clf__estimator__ccp_alpha': [0.0, 0.1]\n",
    "}"
   ]
  },
  {
   "cell_type": "code",
   "execution_count": 12,
   "metadata": {},
   "outputs": [],
   "source": [
    "cv = GridSearchCV(pipeline, param_grid=parameters, cv=2, verbose=3)"
   ]
  },
  {
   "cell_type": "code",
   "execution_count": 13,
   "metadata": {},
   "outputs": [],
   "source": [
    "X_train, X_test, Y_train, Y_test = train_test_split(X, Y, test_size=0.25, random_state=42)"
   ]
  },
  {
   "cell_type": "code",
   "execution_count": 14,
   "metadata": {},
   "outputs": [
    {
     "name": "stdout",
     "output_type": "stream",
     "text": [
      "Fitting 2 folds for each of 16 candidates, totalling 32 fits\n",
      "[CV 1/2] END clf__estimator__ccp_alpha=0.0, clf__estimator__max_depth=10, clf__estimator__min_samples_split=2, features__text_pipeline__vect__ngram_range=(1, 1);, score=0.222 total time= 1.6min\n",
      "[CV 2/2] END clf__estimator__ccp_alpha=0.0, clf__estimator__max_depth=10, clf__estimator__min_samples_split=2, features__text_pipeline__vect__ngram_range=(1, 1);, score=0.214 total time= 1.6min\n",
      "[CV 1/2] END clf__estimator__ccp_alpha=0.0, clf__estimator__max_depth=10, clf__estimator__min_samples_split=2, features__text_pipeline__vect__ngram_range=(1, 2);, score=0.213 total time= 1.7min\n",
      "[CV 2/2] END clf__estimator__ccp_alpha=0.0, clf__estimator__max_depth=10, clf__estimator__min_samples_split=2, features__text_pipeline__vect__ngram_range=(1, 2);, score=0.211 total time= 1.7min\n",
      "[CV 1/2] END clf__estimator__ccp_alpha=0.0, clf__estimator__max_depth=10, clf__estimator__min_samples_split=5, features__text_pipeline__vect__ngram_range=(1, 1);, score=0.221 total time= 1.6min\n",
      "[CV 2/2] END clf__estimator__ccp_alpha=0.0, clf__estimator__max_depth=10, clf__estimator__min_samples_split=5, features__text_pipeline__vect__ngram_range=(1, 1);, score=0.214 total time= 1.6min\n",
      "[CV 1/2] END clf__estimator__ccp_alpha=0.0, clf__estimator__max_depth=10, clf__estimator__min_samples_split=5, features__text_pipeline__vect__ngram_range=(1, 2);, score=0.213 total time= 1.8min\n",
      "[CV 2/2] END clf__estimator__ccp_alpha=0.0, clf__estimator__max_depth=10, clf__estimator__min_samples_split=5, features__text_pipeline__vect__ngram_range=(1, 2);, score=0.210 total time= 1.7min\n",
      "[CV 1/2] END clf__estimator__ccp_alpha=0.0, clf__estimator__max_depth=20, clf__estimator__min_samples_split=2, features__text_pipeline__vect__ngram_range=(1, 1);, score=0.211 total time= 1.7min\n",
      "[CV 2/2] END clf__estimator__ccp_alpha=0.0, clf__estimator__max_depth=20, clf__estimator__min_samples_split=2, features__text_pipeline__vect__ngram_range=(1, 1);, score=0.210 total time= 1.7min\n",
      "[CV 1/2] END clf__estimator__ccp_alpha=0.0, clf__estimator__max_depth=20, clf__estimator__min_samples_split=2, features__text_pipeline__vect__ngram_range=(1, 2);, score=0.211 total time= 2.0min\n",
      "[CV 2/2] END clf__estimator__ccp_alpha=0.0, clf__estimator__max_depth=20, clf__estimator__min_samples_split=2, features__text_pipeline__vect__ngram_range=(1, 2);, score=0.209 total time= 2.3min\n",
      "[CV 1/2] END clf__estimator__ccp_alpha=0.0, clf__estimator__max_depth=20, clf__estimator__min_samples_split=5, features__text_pipeline__vect__ngram_range=(1, 1);, score=0.209 total time= 1.7min\n",
      "[CV 2/2] END clf__estimator__ccp_alpha=0.0, clf__estimator__max_depth=20, clf__estimator__min_samples_split=5, features__text_pipeline__vect__ngram_range=(1, 1);, score=0.210 total time= 1.7min\n",
      "[CV 1/2] END clf__estimator__ccp_alpha=0.0, clf__estimator__max_depth=20, clf__estimator__min_samples_split=5, features__text_pipeline__vect__ngram_range=(1, 2);, score=0.213 total time= 1.9min\n",
      "[CV 2/2] END clf__estimator__ccp_alpha=0.0, clf__estimator__max_depth=20, clf__estimator__min_samples_split=5, features__text_pipeline__vect__ngram_range=(1, 2);, score=0.208 total time= 1.9min\n",
      "[CV 1/2] END clf__estimator__ccp_alpha=0.1, clf__estimator__max_depth=10, clf__estimator__min_samples_split=2, features__text_pipeline__vect__ngram_range=(1, 1);, score=0.199 total time= 1.6min\n",
      "[CV 2/2] END clf__estimator__ccp_alpha=0.1, clf__estimator__max_depth=10, clf__estimator__min_samples_split=2, features__text_pipeline__vect__ngram_range=(1, 1);, score=0.207 total time= 1.6min\n",
      "[CV 1/2] END clf__estimator__ccp_alpha=0.1, clf__estimator__max_depth=10, clf__estimator__min_samples_split=2, features__text_pipeline__vect__ngram_range=(1, 2);, score=0.199 total time= 1.7min\n",
      "[CV 2/2] END clf__estimator__ccp_alpha=0.1, clf__estimator__max_depth=10, clf__estimator__min_samples_split=2, features__text_pipeline__vect__ngram_range=(1, 2);, score=0.207 total time= 1.8min\n",
      "[CV 1/2] END clf__estimator__ccp_alpha=0.1, clf__estimator__max_depth=10, clf__estimator__min_samples_split=5, features__text_pipeline__vect__ngram_range=(1, 1);, score=0.199 total time= 1.6min\n",
      "[CV 2/2] END clf__estimator__ccp_alpha=0.1, clf__estimator__max_depth=10, clf__estimator__min_samples_split=5, features__text_pipeline__vect__ngram_range=(1, 1);, score=0.207 total time= 1.6min\n",
      "[CV 1/2] END clf__estimator__ccp_alpha=0.1, clf__estimator__max_depth=10, clf__estimator__min_samples_split=5, features__text_pipeline__vect__ngram_range=(1, 2);, score=0.199 total time= 1.8min\n",
      "[CV 2/2] END clf__estimator__ccp_alpha=0.1, clf__estimator__max_depth=10, clf__estimator__min_samples_split=5, features__text_pipeline__vect__ngram_range=(1, 2);, score=0.207 total time= 1.8min\n",
      "[CV 1/2] END clf__estimator__ccp_alpha=0.1, clf__estimator__max_depth=20, clf__estimator__min_samples_split=2, features__text_pipeline__vect__ngram_range=(1, 1);, score=0.199 total time= 1.7min\n",
      "[CV 2/2] END clf__estimator__ccp_alpha=0.1, clf__estimator__max_depth=20, clf__estimator__min_samples_split=2, features__text_pipeline__vect__ngram_range=(1, 1);, score=0.207 total time= 1.7min\n",
      "[CV 1/2] END clf__estimator__ccp_alpha=0.1, clf__estimator__max_depth=20, clf__estimator__min_samples_split=2, features__text_pipeline__vect__ngram_range=(1, 2);, score=0.199 total time= 2.0min\n",
      "[CV 2/2] END clf__estimator__ccp_alpha=0.1, clf__estimator__max_depth=20, clf__estimator__min_samples_split=2, features__text_pipeline__vect__ngram_range=(1, 2);, score=0.207 total time= 1.9min\n",
      "[CV 1/2] END clf__estimator__ccp_alpha=0.1, clf__estimator__max_depth=20, clf__estimator__min_samples_split=5, features__text_pipeline__vect__ngram_range=(1, 1);, score=0.199 total time= 1.7min\n",
      "[CV 2/2] END clf__estimator__ccp_alpha=0.1, clf__estimator__max_depth=20, clf__estimator__min_samples_split=5, features__text_pipeline__vect__ngram_range=(1, 1);, score=0.207 total time= 1.7min\n",
      "[CV 1/2] END clf__estimator__ccp_alpha=0.1, clf__estimator__max_depth=20, clf__estimator__min_samples_split=5, features__text_pipeline__vect__ngram_range=(1, 2);, score=0.199 total time= 1.9min\n",
      "[CV 2/2] END clf__estimator__ccp_alpha=0.1, clf__estimator__max_depth=20, clf__estimator__min_samples_split=5, features__text_pipeline__vect__ngram_range=(1, 2);, score=0.207 total time= 1.9min\n"
     ]
    },
    {
     "data": {
      "text/plain": [
       "GridSearchCV(cv=2,\n",
       "             estimator=Pipeline(steps=[('features',\n",
       "                                        FeatureUnion(transformer_list=[('text_pipeline',\n",
       "                                                                        Pipeline(steps=[('vect',\n",
       "                                                                                         CountVectorizer(tokenizer=<function tokenize at 0x00000253AC862820>)),\n",
       "                                                                                        ('tfidf',\n",
       "                                                                                         TfidfTransformer())]))])),\n",
       "                                       ('clf',\n",
       "                                        MultiOutputClassifier(estimator=DecisionTreeClassifier()))]),\n",
       "             param_grid={'clf__estimator__ccp_alpha': [0.0, 0.1],\n",
       "                         'clf__estimator__max_depth': [10, 20],\n",
       "                         'clf__estimator__min_samples_split': [2, 5],\n",
       "                         'features__text_pipeline__vect__ngram_range': ((1, 1),\n",
       "                                                                        (1,\n",
       "                                                                         2))},\n",
       "             verbose=3)"
      ]
     },
     "execution_count": 14,
     "metadata": {},
     "output_type": "execute_result"
    }
   ],
   "source": [
    "cv.fit(X_train, Y_train)"
   ]
  },
  {
   "cell_type": "code",
   "execution_count": 15,
   "metadata": {},
   "outputs": [
    {
     "data": {
      "text/plain": [
       "{'clf__estimator__ccp_alpha': 0.0,\n",
       " 'clf__estimator__max_depth': 10,\n",
       " 'clf__estimator__min_samples_split': 2,\n",
       " 'features__text_pipeline__vect__ngram_range': (1, 1)}"
      ]
     },
     "execution_count": 15,
     "metadata": {},
     "output_type": "execute_result"
    }
   ],
   "source": [
    "cv.best_params_"
   ]
  },
  {
   "cell_type": "code",
   "execution_count": 16,
   "metadata": {},
   "outputs": [
    {
     "data": {
      "text/plain": [
       "0.2181982679201186"
      ]
     },
     "execution_count": 16,
     "metadata": {},
     "output_type": "execute_result"
    }
   ],
   "source": [
    "cv.best_score_"
   ]
  },
  {
   "cell_type": "markdown",
   "metadata": {},
   "source": [
    "## 8. Test your model\n",
    "Show the accuracy, precision, and recall of the tuned model.  \n",
    "\n",
    "Since this project focuses on code quality, process, and  pipelines, there is no minimum performance metric needed to pass. However, make sure to fine tune your models for accuracy, precision and recall to make your project stand out - especially for your portfolio!"
   ]
  },
  {
   "cell_type": "code",
   "execution_count": 17,
   "metadata": {},
   "outputs": [],
   "source": [
    "Y_pred = cv.predict(X_test)"
   ]
  },
  {
   "cell_type": "code",
   "execution_count": 18,
   "metadata": {},
   "outputs": [],
   "source": [
    "# Turn preds into a dataframe\n",
    "Y_pred_df = pd.DataFrame(Y_pred, index=Y_test.index, columns=Y_test.columns)"
   ]
  },
  {
   "cell_type": "code",
   "execution_count": 19,
   "metadata": {},
   "outputs": [
    {
     "name": "stdout",
     "output_type": "stream",
     "text": [
      "                        precision    recall  f1-score   support\n",
      "\n",
      "               related       0.79      0.97      0.87      5001\n",
      "               request       0.77      0.43      0.55      1093\n",
      "                 offer       0.00      0.00      0.00        32\n",
      "           aid_related       0.69      0.59      0.64      2700\n",
      "          medical_help       0.54      0.24      0.33       532\n",
      "      medical_products       0.67      0.32      0.43       345\n",
      "     search_and_rescue       0.55      0.22      0.31       165\n",
      "              security       0.14      0.02      0.04       127\n",
      "              military       0.46      0.31      0.37       197\n",
      "           child_alone       0.00      0.00      0.00         0\n",
      "                 water       0.75      0.64      0.69       408\n",
      "                  food       0.80      0.80      0.80       723\n",
      "               shelter       0.77      0.54      0.64       590\n",
      "              clothing       0.69      0.48      0.57        95\n",
      "                 money       0.49      0.27      0.35       138\n",
      "        missing_people       0.64      0.19      0.29        74\n",
      "              refugees       0.63      0.36      0.46       223\n",
      "                 death       0.79      0.56      0.66       301\n",
      "             other_aid       0.50      0.16      0.24       865\n",
      "infrastructure_related       0.35      0.06      0.11       410\n",
      "             transport       0.62      0.18      0.28       288\n",
      "             buildings       0.71      0.33      0.45       331\n",
      "           electricity       0.48      0.17      0.26       144\n",
      "                 tools       0.09      0.02      0.04        46\n",
      "             hospitals       0.17      0.08      0.11        60\n",
      "                 shops       0.00      0.00      0.00        29\n",
      "           aid_centers       0.12      0.04      0.06        77\n",
      "  other_infrastructure       0.33      0.05      0.09       277\n",
      "       weather_related       0.88      0.60      0.71      1816\n",
      "                floods       0.86      0.53      0.65       546\n",
      "                 storm       0.73      0.61      0.67       596\n",
      "                  fire       0.51      0.37      0.43        67\n",
      "            earthquake       0.89      0.81      0.85       630\n",
      "                  cold       0.62      0.46      0.53       122\n",
      "         other_weather       0.46      0.21      0.29       319\n",
      "         direct_report       0.72      0.32      0.44      1265\n",
      "\n",
      "             micro avg       0.75      0.58      0.65     20632\n",
      "             macro avg       0.53      0.33      0.39     20632\n",
      "          weighted avg       0.71      0.58      0.61     20632\n",
      "           samples avg       0.65      0.52      0.53     20632\n",
      "\n"
     ]
    }
   ],
   "source": [
    "# Print classification report\n",
    "print(classification_report(Y_test, Y_pred_df, target_names=Y_test.columns, zero_division=0))"
   ]
  },
  {
   "cell_type": "markdown",
   "metadata": {},
   "source": [
    "We've managed to improve the model but only very slightly."
   ]
  },
  {
   "cell_type": "markdown",
   "metadata": {},
   "source": [
    "## 9. Export your model as a pickle file"
   ]
  },
  {
   "cell_type": "code",
   "execution_count": 20,
   "metadata": {},
   "outputs": [],
   "source": [
    "import pickle"
   ]
  },
  {
   "cell_type": "code",
   "execution_count": 21,
   "metadata": {},
   "outputs": [],
   "source": [
    "with open('final_model.pkl','wb') as f:\n",
    "    pickle.dump(cv, f)"
   ]
  },
  {
   "cell_type": "markdown",
   "metadata": {},
   "source": [
    "## 10. Use this notebook to complete `train.py`\n",
    "Use the template file attached in the Resources folder to write a script that runs the steps above to create a database and export a model based on a new dataset specified by the user."
   ]
  },
  {
   "cell_type": "code",
   "execution_count": null,
   "metadata": {},
   "outputs": [],
   "source": []
  }
 ],
 "metadata": {
  "kernelspec": {
   "display_name": "Python 3",
   "language": "python",
   "name": "python3"
  },
  "language_info": {
   "codemirror_mode": {
    "name": "ipython",
    "version": 3
   },
   "file_extension": ".py",
   "mimetype": "text/x-python",
   "name": "python",
   "nbconvert_exporter": "python",
   "pygments_lexer": "ipython3",
   "version": "3.8.5"
  }
 },
 "nbformat": 4,
 "nbformat_minor": 2
}
